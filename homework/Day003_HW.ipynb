{
 "cells": [
  {
   "cell_type": "markdown",
   "metadata": {},
   "source": [
    "# Python 下載XML檔案與解析\n",
    "\n",
    "\n",
    "* 了解 xml 檔案格式與內容\n",
    "* 能夠利用套件存取 xml 格式的檔案\n"
   ]
  },
  {
   "cell_type": "markdown",
   "metadata": {},
   "source": [
    "## 作業目標\n",
    "\n",
    "* 比較一下範例檔案中的「File I/O」與「xmltodict」讀出來的內容有什麼差異\n",
    "\n",
    "* 根據範例檔案的結果：\n",
    "    1. 請問高雄市有多少地區有溫度資料？\n",
    "    2. 請取出每一個地區所記錄的第一個時間點跟溫度\n",
    "    3. 請取出第一個地區所記錄的每一個時間點跟溫度"
   ]
  },
  {
   "cell_type": "markdown",
   "metadata": {},
   "source": [
    "### 比較一下範例檔案中的「File I/O」與「xmltodict」讀出來的內容有什麼差異\n"
   ]
  },
  {
   "cell_type": "code",
   "execution_count": null,
   "metadata": {},
   "outputs": [],
   "source": [
    "'''\n",
    "file io 讀取出來的為字串\n",
    "xmltodict讀取出來的類似為dict的元素\n",
    "'''"
   ]
  },
  {
   "cell_type": "markdown",
   "metadata": {},
   "source": [
    "### 根據範例檔案的結果：\n",
    "\n",
    "1. 請問高雄市有多少地區有溫度資料？\n",
    "2. 請取出每一個地區所記錄的第一個時間點跟溫度\n",
    "3. 請取出第一個地區所記錄的每一個時間點跟溫度"
   ]
  },
  {
   "cell_type": "code",
   "execution_count": 1,
   "metadata": {},
   "outputs": [],
   "source": [
    "import urllib.request\n",
    "import zipfile\n",
    "\n",
    "res = \"http://opendata.cwb.gov.tw/govdownload?dataid=F-D0047-093&authorizationkey=rdec-key-123-45678-011121314\"\n",
    "urllib.request.urlretrieve(res, \"./data/example.zip\")\n",
    "f = zipfile.ZipFile('./data/example.zip')\n",
    "f.extractall('./data')"
   ]
  },
  {
   "cell_type": "code",
   "execution_count": 2,
   "metadata": {},
   "outputs": [
    {
     "name": "stdout",
     "output_type": "stream",
     "text": [
      "66_Week24_EN.xml\n",
      "68_Week24_CH.xml\n",
      "67_Weekday_EN.xml\n",
      "65_Weekday_CH.xml\n",
      "09020_72hr_CH.xml\n",
      "10002_72hr_EN.xml\n",
      "example.zip\n",
      "10017_72hr_EN.xml\n",
      "10014_Week24_EN.xml\n",
      "67_72hr_EN.xml\n",
      "10008_72hr_CH.xml\n",
      "TAIWAN_72hr_EN.xml\n",
      "10009_Week24_CH.xml\n",
      "10007_Week24_EN.xml\n",
      "10010_Week24_EN.xml\n",
      "09007_72hr_CH.xml\n",
      "10014_72hr_CH.xml\n",
      "68_Weekday_EN.xml\n",
      "64_72hr_CH.xml\n",
      "10017_Week24_EN.xml\n",
      "10020_Week24_CH.xml\n",
      "example.csv\n",
      "10013_Week24_EN.xml\n",
      "10004_Week24_EN.xml\n",
      "10020_Weekday_EN.xml\n",
      "63_Weekday_CH.xml\n",
      "10020_72hr_EN.xml\n",
      "65_Week24_EN.xml\n",
      "09020_Weekday_EN.xml\n",
      "10004_72hr_CH.xml\n",
      "10018_72hr_CH.xml\n",
      "66_Weekday_EN.xml\n",
      "10007_72hr_EN.xml\n",
      "68_72hr_CH.xml\n",
      "TAIWAN_Week24_EN.xml\n",
      "64_Weekday_CH.xml\n",
      "65_Week24_CH.xml\n",
      "09020_Weekday_CH.xml\n",
      "10004_72hr_EN.xml\n",
      "66_Weekday_CH.xml\n",
      "10018_72hr_EN.xml\n",
      "10007_72hr_CH.xml\n",
      "68_72hr_EN.xml\n",
      "TAIWAN_Week24_CH.xml\n",
      "64_Weekday_EN.xml\n",
      "10017_Week24_CH.xml\n",
      "10020_Week24_EN.xml\n",
      "Homework.txt\n",
      "10013_Week24_CH.xml\n",
      "10020_Weekday_CH.xml\n",
      "10004_Week24_CH.xml\n",
      "10020_72hr_CH.xml\n",
      "63_Weekday_EN.xml\n",
      "10014_Week24_CH.xml\n",
      "10017_72hr_CH.xml\n",
      "67_72hr_CH.xml\n",
      "10008_72hr_EN.xml\n",
      "TAIWAN_72hr_CH.xml\n",
      "10007_Week24_CH.xml\n",
      "10009_Week24_EN.xml\n",
      "09007_72hr_EN.xml\n",
      "10010_Week24_CH.xml\n",
      "10014_72hr_EN.xml\n",
      "68_Weekday_CH.xml\n",
      "64_72hr_EN.xml\n",
      "68_Week24_EN.xml\n",
      "66_Week24_CH.xml\n",
      "67_Weekday_CH.xml\n",
      "65_Weekday_EN.xml\n",
      "09020_72hr_EN.xml\n",
      "10002_72hr_CH.xml\n",
      "10007_Weekday_CH.xml\n",
      "10005_Weekday_EN.xml\n",
      "10008_Week24_EN.xml\n",
      "10010_Weekday_EN.xml\n",
      "10018_Weekday_EN.xml\n",
      "10002_Week24_CH.xml\n",
      "10005_72hr_CH.xml\n",
      "10015_Week24_CH.xml\n",
      "09020_Week24_CH.xml\n",
      "10010_72hr_CH.xml\n",
      "10015_Weekday_CH.xml\n",
      "10017_Weekday_EN.xml\n",
      "10002_Weekday_EN.xml\n",
      "63_Week24_CH.xml\n",
      "09007_Weekday_CH.xml\n",
      "10008_Weekday_CH.xml\n",
      "10013_72hr_EN.xml\n",
      "63_72hr_EN.xml\n",
      "67_Week24_CH.xml\n",
      "65_72hr_CH.xml\n",
      "10015_72hr_CH.xml\n",
      "10009_Weekday_CH.xml\n",
      "10014_Weekday_CH.xml\n",
      "10009_72hr_CH.xml\n",
      "66_72hr_EN.xml\n",
      "TAIWAN_Weekday_CH.xml\n",
      "10016_72hr_EN.xml\n",
      "64_Week24_CH.xml\n",
      "10016_Weekday_EN.xml\n",
      "09007_Week24_EN.xml\n",
      "10005_Week24_CH.xml\n",
      "10013_Weekday_CH.xml\n",
      "10016_Week24_CH.xml\n",
      "10018_Week24_EN.xml\n",
      "10004_Weekday_EN.xml\n",
      "09007_Week24_CH.xml\n",
      "10005_Week24_EN.xml\n",
      "10013_Weekday_EN.xml\n",
      "10018_Week24_CH.xml\n",
      "10004_Weekday_CH.xml\n",
      "10016_Week24_EN.xml\n",
      "65_72hr_EN.xml\n",
      "10009_Weekday_EN.xml\n",
      "10015_72hr_EN.xml\n",
      "10014_Weekday_EN.xml\n",
      "10009_72hr_EN.xml\n",
      "TAIWAN_Weekday_EN.xml\n",
      "66_72hr_CH.xml\n",
      "10016_72hr_CH.xml\n",
      "64_Week24_EN.xml\n",
      "10016_Weekday_CH.xml\n",
      "10010_72hr_EN.xml\n",
      "10015_Weekday_EN.xml\n",
      "10002_Weekday_CH.xml\n",
      "10017_Weekday_CH.xml\n",
      "63_Week24_EN.xml\n",
      "10008_Weekday_EN.xml\n",
      "09007_Weekday_EN.xml\n",
      "10013_72hr_CH.xml\n",
      "63_72hr_CH.xml\n",
      "67_Week24_EN.xml\n",
      "10007_Weekday_EN.xml\n",
      "10010_Weekday_CH.xml\n",
      "10005_Weekday_CH.xml\n",
      "10008_Week24_CH.xml\n",
      "10018_Weekday_CH.xml\n",
      "10002_Week24_EN.xml\n",
      "10005_72hr_EN.xml\n",
      "10015_Week24_EN.xml\n",
      "09020_Week24_EN.xml\n"
     ]
    }
   ],
   "source": [
    "import os, sys\n",
    "\n",
    "# 打开文件\n",
    "dirs = os.listdir( './data' )\n",
    "\n",
    "# 输出所有文件和文件夹\n",
    "for file in dirs:\n",
    "    print(file)"
   ]
  },
  {
   "cell_type": "code",
   "execution_count": 13,
   "metadata": {},
   "outputs": [
    {
     "name": "stdout",
     "output_type": "stream",
     "text": [
      "38\n"
     ]
    }
   ],
   "source": [
    "# 1. 請問高雄市有多少地區有溫度資料？\n",
    "import xmltodict\n",
    "with open('./data/64_72hr_CH.xml', 'r') as file:\n",
    "    file_str = file.read()\n",
    "    doc = dict(xmltodict.parse(file_str))\n",
    "    doc['cwbopendata']['dataset']\n",
    "    locations = doc['cwbopendata']['dataset']['locations']['location']\n",
    "    i = 0\n",
    "    for location in locations:\n",
    "        if 'weatherElement' in location:\n",
    "            i += 1\n",
    "    print(i)"
   ]
  },
  {
   "cell_type": "code",
   "execution_count": 31,
   "metadata": {},
   "outputs": [
    {
     "name": "stdout",
     "output_type": "stream",
     "text": [
      "{'鹽埕區': '26度', '鼓山區': '26度', '左營區': '25度', '楠梓區': '25度', '三民區': '25度', '新興區': '26度', '前金區': '26度', '苓雅區': '26度', '前鎮區': '26度', '旗津區': '25度', '小港區': '26度', '鳳山區': '26度', '林園區': '26度', '大寮區': '26度', '大樹區': '26度', '大社區': '26度', '仁武區': '26度', '鳥松區': '26度', '岡山區': '25度', '橋頭區': '26度', '燕巢區': '25度', '田寮區': '24度', '阿蓮區': '24度', '路竹區': '25度', '湖內區': '24度', '茄萣區': '24度', '永安區': '24度', '彌陀區': '24度', '梓官區': '25度', '旗山區': '24度', '美濃區': '25度', '六龜區': '22度', '甲仙區': '21度', '杉林區': '25度', '內門區': '23度', '茂林區': '23度', '桃源區': '20度', '那瑪夏區': '18度'}\n"
     ]
    }
   ],
   "source": [
    "# 2. 請取出每一個地區所記錄的第一個時間點跟溫度\n",
    "\n",
    "import xmltodict\n",
    "with open('./data/64_72hr_CH.xml', 'r') as file:\n",
    "    file_str = file.read()\n",
    "    doc = dict(xmltodict.parse(file_str))\n",
    "    doc['cwbopendata']['dataset']\n",
    "    locations = doc['cwbopendata']['dataset']['locations']['location']\n",
    "    data_dict = {location['locationName']: location['weatherElement'][0]['time'][0]['elementValue']['value'] + '度' for location in locations}\n",
    "    print(data_dict)"
   ]
  },
  {
   "cell_type": "code",
   "execution_count": 61,
   "metadata": {},
   "outputs": [
    {
     "name": "stdout",
     "output_type": "stream",
     "text": [
      "{'鹽埕區': [{'2019-11-25T18:00:00+08:00': '26度'}, {'2019-11-25T21:00:00+08:00': '24度'}, {'2019-11-26T00:00:00+08:00': '23度'}, {'2019-11-26T03:00:00+08:00': '22度'}, {'2019-11-26T06:00:00+08:00': '22度'}, {'2019-11-26T09:00:00+08:00': '23度'}, {'2019-11-26T12:00:00+08:00': '26度'}, {'2019-11-26T15:00:00+08:00': '26度'}, {'2019-11-26T18:00:00+08:00': '25度'}, {'2019-11-26T21:00:00+08:00': '23度'}, {'2019-11-27T00:00:00+08:00': '22度'}, {'2019-11-27T03:00:00+08:00': '22度'}, {'2019-11-27T06:00:00+08:00': '21度'}, {'2019-11-27T09:00:00+08:00': '23度'}, {'2019-11-27T12:00:00+08:00': '27度'}, {'2019-11-27T15:00:00+08:00': '27度'}, {'2019-11-27T18:00:00+08:00': '25度'}, {'2019-11-27T21:00:00+08:00': '23度'}, {'2019-11-28T00:00:00+08:00': '22度'}, {'2019-11-28T03:00:00+08:00': '21度'}, {'2019-11-28T06:00:00+08:00': '20度'}, {'2019-11-28T09:00:00+08:00': '22度'}, {'2019-11-28T12:00:00+08:00': '26度'}, {'2019-11-28T15:00:00+08:00': '26度'}]}\n"
     ]
    }
   ],
   "source": [
    "# 3. 請取出第一個地區所記錄的每一個時間點跟溫度\n",
    "\n",
    "import xmltodict\n",
    "with open('./data/64_72hr_CH.xml', 'r') as file:\n",
    "    file_str = file.read()\n",
    "    doc = dict(xmltodict.parse(file_str))\n",
    "    doc['cwbopendata']['dataset']\n",
    "    locations = doc['cwbopendata']['dataset']['locations']['location'][0]\n",
    "    \n",
    "    data_dict = {locations['locationName']: [{data['dataTime']: data['elementValue']['value'] + '度'} for data in locations['weatherElement'][0]['time']]}\n",
    "    print(data_dict)"
   ]
  },
  {
   "cell_type": "code",
   "execution_count": null,
   "metadata": {},
   "outputs": [],
   "source": []
  }
 ],
 "metadata": {
  "kernelspec": {
   "display_name": "Python 3",
   "language": "python",
   "name": "python3"
  },
  "language_info": {
   "codemirror_mode": {
    "name": "ipython",
    "version": 3
   },
   "file_extension": ".py",
   "mimetype": "text/x-python",
   "name": "python",
   "nbconvert_exporter": "python",
   "pygments_lexer": "ipython3",
   "version": "3.7.4"
  }
 },
 "nbformat": 4,
 "nbformat_minor": 2
}
