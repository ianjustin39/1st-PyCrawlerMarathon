{
 "cells": [
  {
   "cell_type": "markdown",
   "metadata": {},
   "source": [
    "# API 資料串接 - 以 Dcard API 實作範例\n",
    "\n",
    "* 利用 urllib 套件的 urlretrieve 方法下載檔案\n",
    "* 了解 Python File I/O 讀檔、寫檔的用法\n",
    "* 能用運用資源管理器 With Statement 優化寫法"
   ]
  },
  {
   "cell_type": "markdown",
   "metadata": {},
   "source": [
    "## 作業目標\n",
    "\n",
    "* 請利用 API: https://www.dcard.tw/_api/forums/pet/posts?popular=true 回答下列問題：\n",
    "\n",
    "1. 這個 API 一次會回傳幾筆資料？每一筆資料包含哪些欄位？\n",
    "2. 取出每一筆資料的「標題」、「貼文時間」、「留言人數」、「按讚人數」\n",
    "3. 計算熱門/非熱門文章的「平均留言人數」與「平均按讚人數」"
   ]
  },
  {
   "cell_type": "code",
   "execution_count": 1,
   "metadata": {},
   "outputs": [
    {
     "name": "stdout",
     "output_type": "stream",
     "text": [
      "共回傳30筆\n"
     ]
    }
   ],
   "source": [
    "# 1. 這個 API 一次會回傳幾筆資料？每一筆資料包含哪些欄位？\n",
    "import requests, json\n",
    "\n",
    "resp = requests.get('https://www.dcard.tw/_api/forums/pet/posts?popular=true')\n",
    "data_list = json.loads(resp.text)\n",
    "print(f'共回傳{len(data_list)}筆')\n",
    "# json.loads(resp.text)"
   ]
  },
  {
   "cell_type": "code",
   "execution_count": 2,
   "metadata": {},
   "outputs": [
    {
     "name": "stdout",
     "output_type": "stream",
     "text": [
      "「標題」#更。不要被薩摩耶給騙了！、「貼文時間」2019-11-29T00:25:38.826Z、「留言人數」128、「按讚人數」7788\n",
      "「標題」🐰誰說兔子不能碰水！兔子❤️海灘、「貼文時間」2019-11-29T07:34:46.328Z、「留言人數」15、「按讚人數」211\n",
      "「標題」#貓 #圖 我懷疑我家貓咪根本不覺得自己是貓咪、「貼文時間」2019-11-29T15:01:23.745Z、「留言人數」8、「按讚人數」207\n",
      "「標題」找回失蹤狗狗😭 原來妳也在找我們、「貼文時間」2019-11-29T22:33:34.440Z、「留言人數」9、「按讚人數」126\n",
      "「標題」高以翔的療癒系狗狗theo、「貼文時間」2019-11-29T13:52:33.150Z、「留言人數」2、「按讚人數」93\n",
      "「標題」吸貓治百病、「貼文時間」2019-11-29T06:53:05.300Z、「留言人數」5、「按讚人數」84\n",
      "「標題」就是你！！！我的菜！！！、「貼文時間」2019-11-29T03:10:51.060Z、「留言人數」0、「按讚人數」40\n",
      "「標題」有愛的假兄弟、「貼文時間」2019-11-29T04:09:24.480Z、「留言人數」0、「按讚人數」33\n",
      "「標題」我家柴犬一系列照片、「貼文時間」2019-11-29T05:02:04.820Z、「留言人數」3、「按讚人數」27\n",
      "「標題」囤貓囤起來😻/圖多文長、「貼文時間」2019-11-29T03:41:19.070Z、「留言人數」3、「按讚人數」19\n",
      "「標題」限動裡的小三線們、「貼文時間」2019-11-29T04:00:40.448Z、「留言人數」4、「按讚人數」15\n",
      "「標題」貓男友的拍照技術、「貼文時間」2019-11-29T13:28:45.211Z、「留言人數」2、「按讚人數」13\n",
      "「標題」威~柯基你母湯喔、「貼文時間」2019-11-29T09:44:50.199Z、「留言人數」0、「按讚人數」12\n",
      "「標題」求助！剛接回家的小貓生病了嗎、「貼文時間」2019-11-29T13:35:26.621Z、「留言人數」2、「按讚人數」11\n",
      "「標題」虎斑狗想找寵物溝通師、「貼文時間」2019-11-29T15:22:07.842Z、「留言人數」2、「按讚人數」10\n",
      "「標題」圖 厭世貓化石梗圖、「貼文時間」2019-11-29T13:38:15.413Z、「留言人數」1、「按讚人數」10\n",
      "「標題」免費寵物溝通、「貼文時間」2019-11-29T11:58:23.732Z、「留言人數」17、「按讚人數」10\n",
      "「標題」躲起來睡覺的喵咪、「貼文時間」2019-11-29T11:53:20.503Z、「留言人數」0、「按讚人數」10\n",
      "「標題」自己的主子最可愛、「貼文時間」2019-11-29T05:09:30.489Z、「留言人數」1、「按讚人數」10\n",
      "「標題」貓咪走失了😭😭台中，水湳、「貼文時間」2019-11-29T12:46:13.912Z、「留言人數」0、「按讚人數」9\n",
      "「標題」台北中正區臨沂街 馬爾濟斯走丟、「貼文時間」2019-11-29T10:05:26.773Z、「留言人數」4、「按讚人數」9\n",
      "「標題」鳥、「貼文時間」2019-11-29T09:55:59.346Z、「留言人數」11、「按讚人數」9\n",
      "「標題」就只知道睡、「貼文時間」2019-11-29T12:25:50.680Z、「留言人數」2、「按讚人數」8\n",
      "「標題」限動滿滿的老鼠是怎樣、「貼文時間」2019-11-29T09:05:18.406Z、「留言人數」19、「按讚人數」8\n",
      "「標題」被擠床原來是一件幸福的事、「貼文時間」2019-11-30T04:15:42.699Z、「留言人數」2、「按讚人數」7\n",
      "「標題」有貓快拜！！、「貼文時間」2019-11-30T03:07:22.599Z、「留言人數」0、「按讚人數」7\n",
      "「標題」貓咪走失 桃園 平鎮、「貼文時間」2019-11-29T15:24:57.656Z、「留言人數」0、「按讚人數」7\n",
      "「標題」#貓 濕食&半濕食、「貼文時間」2019-11-29T06:40:39.452Z、「留言人數」14、「按讚人數」7\n",
      "「標題」6個月小布偶貓 放臭屁、「貼文時間」2019-11-29T15:56:00.789Z、「留言人數」5、「按讚人數」6\n",
      "「標題」貓咪尾巴狂抖是正常的嗎、「貼文時間」2019-11-29T14:12:31.389Z、「留言人數」8、「按讚人數」6\n"
     ]
    }
   ],
   "source": [
    "# 2. 取出每一筆資料的「標題」、「貼文時間」、「留言人數」、「按讚人數」\n",
    "import requests, json\n",
    "\n",
    "for data in data_list:\n",
    "    print(f'「標題」{data.get(\"title\")}、「貼文時間」{data.get(\"createdAt\")}、'\n",
    "          f'「留言人數」{data.get(\"commentCount\")}、「按讚人數」{data.get(\"likeCount\")}')\n",
    "          "
   ]
  },
  {
   "cell_type": "code",
   "execution_count": 3,
   "metadata": {
    "scrolled": true
   },
   "outputs": [
    {
     "name": "stdout",
     "output_type": "stream",
     "text": [
      "熱門文章的「留言人數: 267」,「按讚人數: 8812」\n",
      "熱門文章的「平均留言人數: 8.9」,「平均按讚人數: 293.73333333333335」\n",
      "非熱門文章的「留言人數: 80」,「按讚人數: 626」\n",
      "非熱門文章的「平均留言人數: 2.6666666666666665」,「平均按讚人數: 20.866666666666667」\n"
     ]
    }
   ],
   "source": [
    "# 3. 計算熱門/非熱門文章的「平均留言人數」與「平均按讚人數」\n",
    "\n",
    "popular_comment_count = 0\n",
    "popular_like_count = 0\n",
    "for data in data_list:\n",
    "    popular_comment_count += data.get(\"commentCount\")\n",
    "    popular_like_count += data.get(\"likeCount\")\n",
    "\n",
    "print(f'熱門文章的「留言人數: {popular_comment_count}」,「按讚人數: {popular_like_count}」')\n",
    "print(f'熱門文章的「平均留言人數: {popular_comment_count/len(data_list)}」,「平均按讚人數: {popular_like_count/len(data_list)}」')\n",
    "\n",
    "\n",
    "resp = requests.get('https://www.dcard.tw/_api/forums/pet/posts?popular=false')\n",
    "not_popular_data_list = json.loads(resp.text)\n",
    "\n",
    "not_popular_comment_count = 0\n",
    "not_popular_like_count = 0\n",
    "for data in not_popular_data_list:\n",
    "    not_popular_comment_count += data.get(\"commentCount\")\n",
    "    not_popular_like_count += data.get(\"likeCount\")\n",
    "    \n",
    "print(f'非熱門文章的「留言人數: {not_popular_comment_count}」,「按讚人數: {not_popular_like_count}」')\n",
    "print(f'非熱門文章的「平均留言人數: {not_popular_comment_count/len(not_popular_data_list)}」,「平均按讚人數: {not_popular_like_count/len(not_popular_data_list)}」')\n"
   ]
  },
  {
   "cell_type": "code",
   "execution_count": null,
   "metadata": {},
   "outputs": [],
   "source": []
  },
  {
   "cell_type": "code",
   "execution_count": null,
   "metadata": {},
   "outputs": [],
   "source": []
  }
 ],
 "metadata": {
  "kernelspec": {
   "display_name": "Python 3",
   "language": "python",
   "name": "python3"
  },
  "language_info": {
   "codemirror_mode": {
    "name": "ipython",
    "version": 3
   },
   "file_extension": ".py",
   "mimetype": "text/x-python",
   "name": "python",
   "nbconvert_exporter": "python",
   "pygments_lexer": "ipython3",
   "version": "3.7.4"
  }
 },
 "nbformat": 4,
 "nbformat_minor": 2
}
