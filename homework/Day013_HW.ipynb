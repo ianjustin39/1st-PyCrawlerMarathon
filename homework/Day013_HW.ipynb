{
 "cells": [
  {
   "cell_type": "markdown",
   "metadata": {},
   "source": [
    "# PTT 網路爬蟲實作練習\n",
    "\n",
    "\n",
    "* 能夠利用 Request + BeatifulSour 撰寫爬蟲，並存放到合適的資料結構\n"
   ]
  },
  {
   "cell_type": "markdown",
   "metadata": {},
   "source": [
    "## 作業目標\n",
    "\n",
    "根據範例 ，完成以下問題：\n",
    "\n",
    "* ① 印出最新文章的「作者」「標題」「時間」\n",
    "* ② 印出第一頁所有文章的「作者」「標題」「時間」\n"
   ]
  },
  {
   "cell_type": "markdown",
   "metadata": {},
   "source": [
    "### ① 印出最新文章的「作者」「標題」「時間」"
   ]
  },
  {
   "cell_type": "code",
   "execution_count": 10,
   "metadata": {},
   "outputs": [
    {
     "name": "stdout",
     "output_type": "stream",
     "text": [
      "標題：(本文已被刪除) [s27052705]\n",
      "作者：-\n",
      "時間：12/17\n",
      "---\n",
      "標題：[新聞] 詹皇認證！熱火小將上周太猛　被他讚「年\n",
      "作者：fukawa947\n",
      "時間：12/17\n",
      "---\n",
      "標題：[公告] 板規v6.7\n",
      "作者：Vedan\n",
      "時間： 5/24\n",
      "---\n",
      "標題：[公告] 樂透取消及未來不再開啟樂透\n",
      "作者：Vedan\n",
      "時間： 6/24\n",
      "---\n",
      "標題：[公告] 版主上任相關事項\n",
      "作者：qazwsx879345\n",
      "時間：10/25\n",
      "---\n",
      "標題：[情報] SEASON Schedule 賽程 December 19–20\n",
      "作者：JerroLi\n",
      "時間：11/29\n",
      "---\n",
      "標題：[公告] 是否禁止記者鄭廷瑋文章投票開始\n",
      "作者：dragon803\n",
      "時間：12/16\n",
      "---\n"
     ]
    }
   ],
   "source": [
    "import requests\n",
    "from bs4 import BeautifulSoup\n",
    "url = 'https://www.ptt.cc/bbs/NBA/index.html'\n",
    "r = requests.get(url)\n",
    "\n",
    "soup = BeautifulSoup(r.text, \"html5lib\")\n",
    "\n",
    "for d in soup.find_all(class_=\"r-ent\"):\n",
    "    title = d.find(class_='title').text\n",
    "    author = d.find(class_='author').text\n",
    "    data = d.find(class_='date').text        \n",
    "    print(f'標題：{title.strip()}')\n",
    "    print(f'作者：{author}')\n",
    "    print(f'時間：{data}')\n",
    "    print('---')"
   ]
  },
  {
   "cell_type": "markdown",
   "metadata": {},
   "source": [
    "### ② 印出第一頁所有文章的「作者」「標題」「時間」"
   ]
  },
  {
   "cell_type": "code",
   "execution_count": 2,
   "metadata": {},
   "outputs": [
    {
     "name": "stdout",
     "output_type": "stream",
     "text": [
      "標題：(本文已被刪除) [s27052705]\n",
      "作者：-\n",
      "時間：12/17\n",
      "---\n",
      "標題：[新聞] 詹皇認證！熱火小將上周太猛　被他讚「年\n",
      "作者：fukawa947\n",
      "時間：12/17\n",
      "---\n",
      "標題：[公告] 板規v6.7\n",
      "作者：Vedan\n",
      "時間： 5/24\n",
      "---\n",
      "標題：[公告] 樂透取消及未來不再開啟樂透\n",
      "作者：Vedan\n",
      "時間： 6/24\n",
      "---\n",
      "標題：[公告] 版主上任相關事項\n",
      "作者：qazwsx879345\n",
      "時間：10/25\n",
      "---\n",
      "標題：[情報] SEASON Schedule 賽程 December 19–20\n",
      "作者：JerroLi\n",
      "時間：11/29\n",
      "---\n",
      "標題：[公告] 是否禁止記者鄭廷瑋文章投票開始\n",
      "作者：dragon803\n",
      "時間：12/16\n",
      "---\n"
     ]
    }
   ],
   "source": [
    "for d in soup.find_all(class_=\"r-ent\"):\n",
    "    title = d.find(class_='title').text\n",
    "    author = d.find(class_='author').text\n",
    "    data = d.find(class_='date').text        \n",
    "    print(f'標題：{title.strip()}')\n",
    "    print(f'作者：{author}')\n",
    "    print(f'時間：{data}')\n",
    "    print('---')"
   ]
  },
  {
   "cell_type": "markdown",
   "metadata": {},
   "source": [
    "### ③ 試著爬爬看其他版的文章"
   ]
  },
  {
   "cell_type": "code",
   "execution_count": 9,
   "metadata": {},
   "outputs": [
    {
     "name": "stdout",
     "output_type": "stream",
     "text": [
      "==\n",
      "標題：[閒聊] 台灣有類似日本這類情色雜誌的刊物嗎??\n",
      "作者：filmystery\n",
      "時間：12/17\n",
      "---\n",
      "標題：[新聞] 不滿女友為同性伴侶拋棄他 酒店經紀性侵\n",
      "作者：ytkuang\n",
      "時間：12/17\n",
      "---\n",
      "標題：[心得] 絲襪衣藏底下內穿\n",
      "作者：eva0216\n",
      "時間：12/17\n",
      "---\n",
      "標題：Re: [心得] 上輩子燒好香換來ㄉ好砲友\n",
      "作者：richard730\n",
      "時間：12/17\n",
      "---\n",
      "標題：Re: [心得] 上輩子燒好香換來ㄉ好砲友\n",
      "作者：zhunhantsai\n",
      "時間：12/17\n",
      "---\n",
      "標題：[認真] 關於Lelo ella的問題\n",
      "作者：alen8749\n",
      "時間：12/17\n",
      "---\n",
      "標題：[創作] 有一種人 8\n",
      "作者：hungsasa\n",
      "時間：12/17\n",
      "---\n",
      "標題：Re: [心得] 上輩子燒好香換來ㄉ好砲友\n",
      "作者：Elipton\n",
      "時間：12/17\n",
      "---\n",
      "標題：[新聞] 狂傳鹹濕訊息「演練姿勢」！人妻嬌喊：想\n",
      "作者：stw0975\n",
      "時間：12/17\n",
      "---\n",
      "標題：[豪洨] 屌仙\n",
      "作者：lpbrother\n",
      "時間：12/17\n",
      "---\n",
      "標題：Re: [認真] 跟男生床上不合 求助\n",
      "作者：martinifaya\n",
      "時間：12/17\n",
      "---\n",
      "標題：[新聞] 遛鳥男公車上掏鳥套弄 女當場錄影怒告\n",
      "作者：hvariables\n",
      "時間：12/17\n",
      "---\n",
      "標題：Re: [心得] 上輩子燒好香換來ㄉ好砲友\n",
      "作者：wdtam\n",
      "時間：12/17\n",
      "---\n",
      "標題：[閒聊] 約炮信\n",
      "作者：hs06031995\n",
      "時間：12/17\n",
      "---\n",
      "標題：Re: [討論] 八大酒店妹的性技真的有好到會想交往嗎\n",
      "作者：yoyo0726\n",
      "時間：12/17\n",
      "---\n",
      "標題：Re: [閒聊] 矽膠娃娃開箱體驗~台灣居然也有~~\n",
      "作者：LAC32\n",
      "時間：12/17\n",
      "---\n",
      "標題：[公告] 西斯板規 Ver 6.2.9\n",
      "作者：FallRed\n",
      "時間：10/16\n",
      "---\n",
      "標題：Fw: [公告] 請使用者多加注意我國保護兒少的法令\n",
      "作者：FallRed\n",
      "時間： 7/29\n",
      "---\n",
      "標題：[公告] 2019 冬季徵文\n",
      "作者：Assisi\n",
      "時間：11/25\n",
      "---\n",
      "標題：[公告] 2019 拾貳月 西斯置底閒聊區\n",
      "作者：Assisi\n",
      "時間：12/01\n",
      "---\n"
     ]
    }
   ],
   "source": [
    "sex_url = 'https://www.ptt.cc/bbs/SEX/index.html'\n",
    "sex_r = requests.get(sex_url, cookies={'over18': '1'})\n",
    "\n",
    "sex_soup = BeautifulSoup(sex_r.text, \"html5lib\")\n",
    "print('==')\n",
    "for d in sex_soup.find_all(class_=\"r-ent\"):\n",
    "    title = d.find(class_='title').text\n",
    "    author = d.find(class_='author').text\n",
    "    data = d.find(class_='date').text        \n",
    "    print(f'標題：{title.strip()}')\n",
    "    print(f'作者：{author}')\n",
    "    print(f'時間：{data}')\n",
    "    print('---')"
   ]
  },
  {
   "cell_type": "code",
   "execution_count": null,
   "metadata": {},
   "outputs": [],
   "source": []
  }
 ],
 "metadata": {
  "kernelspec": {
   "display_name": "Python 3",
   "language": "python",
   "name": "python3"
  },
  "language_info": {
   "codemirror_mode": {
    "name": "ipython",
    "version": 3
   },
   "file_extension": ".py",
   "mimetype": "text/x-python",
   "name": "python",
   "nbconvert_exporter": "python",
   "pygments_lexer": "ipython3",
   "version": "3.7.4"
  }
 },
 "nbformat": 4,
 "nbformat_minor": 2
}
